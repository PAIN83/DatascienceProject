{
 "cells": [
  {
   "cell_type": "markdown",
   "id": "2d3957bb-a894-42fa-a672-466735ead493",
   "metadata": {},
   "source": [
    "# About this project"
   ]
  },
  {
   "cell_type": "markdown",
   "id": "731d1584-3f3c-4345-ac94-efdad97822b2",
   "metadata": {},
   "source": [
    "## Credit card fraud is a growing concern in the financial sector, leading to substantial financial losses and security risks. This project focuses on detecting fraudulent transactions using machine learning techniques to enhance security and minimize fraudulent activities."
   ]
  },
  {
   "cell_type": "markdown",
   "id": "d5376c03-57dd-4932-a5dd-6e733d6f25aa",
   "metadata": {},
   "source": [
    "## Project Explanation"
   ]
  },
  {
   "cell_type": "markdown",
   "id": "ae0b681a-6c10-4546-8cd2-4550523de7d7",
   "metadata": {},
   "source": [
    "#### 1. What is Credit Card Fraud Detection?\n",
    "##### Credit card fraud detection helps identify fraudulent transactions using machine learning."
   ]
  },
  {
   "cell_type": "markdown",
   "id": "bc6d0add-a1e1-4f94-8c7f-6aa72f7b8f3f",
   "metadata": {},
   "source": [
    "#### 2. Why Use Machine Learning? \n",
    "##### Traditional rule-based methods fail to detect evolving fraud techniques.\n",
    "\n",
    "##### Machine learning learns patterns and predicts fraud with higher accuracy."
   ]
  },
  {
   "cell_type": "markdown",
   "id": "c3dcc1ad-6d43-49ae-a46f-ba6d28e0adf5",
   "metadata": {},
   "source": [
    "#### 3. How Does This Project Work?\n",
    "##### Loads transaction data.\n",
    "\n",
    "##### Prepares and balances data for better accuracy.\n",
    "\n",
    "##### Trains a Logistic Regression model to detect fraud.\n",
    "\n",
    "##### Evaluates accuracy using test data.\n",
    "\n",
    "##### Visualizes results for better understanding."
   ]
  },
  {
   "cell_type": "markdown",
   "id": "8d8eaeb4-0dfa-4d30-9f75-6a507cec3d18",
   "metadata": {},
   "source": [
    "#### 4. What Did We Learn?\n",
    "##### Fraudulent transactions are much fewer than legitimate ones.\n",
    "\n",
    "##### Imbalanced data can mislead the model.\n",
    "\n",
    "##### Machine learning helps detect fraud in real-time."
   ]
  },
  {
   "cell_type": "markdown",
   "id": "c1686da4-6914-4072-9c33-92c8b44be1d6",
   "metadata": {},
   "source": [
    "### 1. Importing Libraries\n",
    "\n"
   ]
  },
  {
   "cell_type": "markdown",
   "id": "2aaa3e40-65c2-4a3f-ba6b-bf0878513ec5",
   "metadata": {},
   "source": [
    "#####  NumPy & Pandas → For data handling and numerical computations.\n",
    "\n",
    "#####  train_test_split → To split data into training and test sets.\n",
    "\n",
    "#####  LogisticRegression → Machine learning model for fraud detection.\n",
    "\n",
    "##### accuracy_score → To evaluate model performance.\n",
    "\n"
   ]
  },
  {
   "cell_type": "code",
   "execution_count": 2,
   "id": "df6a8efe-f25e-402e-a35c-d5944285110b",
   "metadata": {},
   "outputs": [],
   "source": [
    "import numpy as np\n",
    "import pandas as pd\n",
    "from sklearn.model_selection import train_test_split\n",
    "from sklearn.linear_model import LogisticRegression\n",
    "from sklearn.metrics import accuracy_score"
   ]
  },
  {
   "cell_type": "markdown",
   "id": "59a40c13-a182-441a-8c51-e095c38ed4c0",
   "metadata": {},
   "source": [
    "### 2. Loading and Exploring the Dataset"
   ]
  },
  {
   "cell_type": "markdown",
   "id": "435d9859-3ff9-4f1a-8505-2714a37fcb1c",
   "metadata": {},
   "source": [
    "#### Loads the dataset into a Pandas DataFrame."
   ]
  },
  {
   "cell_type": "code",
   "execution_count": 3,
   "id": "a2966c6c-1409-4e97-b575-b7938b5273e5",
   "metadata": {},
   "outputs": [],
   "source": [
    "fraud_detection = pd.read_csv('creditcard.csv')"
   ]
  },
  {
   "cell_type": "markdown",
   "id": "bffc02b0-0b92-43ef-9922-b7fa30365ae5",
   "metadata": {},
   "source": [
    "#### Displays the first and last few records."
   ]
  },
  {
   "cell_type": "code",
   "execution_count": 4,
   "id": "88eeac2f-e852-4a0a-974c-a23f0fe636e5",
   "metadata": {},
   "outputs": [
    {
     "data": {
      "text/html": [
       "<div>\n",
       "<style scoped>\n",
       "    .dataframe tbody tr th:only-of-type {\n",
       "        vertical-align: middle;\n",
       "    }\n",
       "\n",
       "    .dataframe tbody tr th {\n",
       "        vertical-align: top;\n",
       "    }\n",
       "\n",
       "    .dataframe thead th {\n",
       "        text-align: right;\n",
       "    }\n",
       "</style>\n",
       "<table border=\"1\" class=\"dataframe\">\n",
       "  <thead>\n",
       "    <tr style=\"text-align: right;\">\n",
       "      <th></th>\n",
       "      <th>Time</th>\n",
       "      <th>V1</th>\n",
       "      <th>V2</th>\n",
       "      <th>V3</th>\n",
       "      <th>V4</th>\n",
       "      <th>V5</th>\n",
       "      <th>V6</th>\n",
       "      <th>V7</th>\n",
       "      <th>V8</th>\n",
       "      <th>V9</th>\n",
       "      <th>...</th>\n",
       "      <th>V21</th>\n",
       "      <th>V22</th>\n",
       "      <th>V23</th>\n",
       "      <th>V24</th>\n",
       "      <th>V25</th>\n",
       "      <th>V26</th>\n",
       "      <th>V27</th>\n",
       "      <th>V28</th>\n",
       "      <th>Amount</th>\n",
       "      <th>Class</th>\n",
       "    </tr>\n",
       "  </thead>\n",
       "  <tbody>\n",
       "    <tr>\n",
       "      <th>0</th>\n",
       "      <td>0.0</td>\n",
       "      <td>-1.359807</td>\n",
       "      <td>-0.072781</td>\n",
       "      <td>2.536347</td>\n",
       "      <td>1.378155</td>\n",
       "      <td>-0.338321</td>\n",
       "      <td>0.462388</td>\n",
       "      <td>0.239599</td>\n",
       "      <td>0.098698</td>\n",
       "      <td>0.363787</td>\n",
       "      <td>...</td>\n",
       "      <td>-0.018307</td>\n",
       "      <td>0.277838</td>\n",
       "      <td>-0.110474</td>\n",
       "      <td>0.066928</td>\n",
       "      <td>0.128539</td>\n",
       "      <td>-0.189115</td>\n",
       "      <td>0.133558</td>\n",
       "      <td>-0.021053</td>\n",
       "      <td>149.62</td>\n",
       "      <td>0</td>\n",
       "    </tr>\n",
       "    <tr>\n",
       "      <th>1</th>\n",
       "      <td>0.0</td>\n",
       "      <td>1.191857</td>\n",
       "      <td>0.266151</td>\n",
       "      <td>0.166480</td>\n",
       "      <td>0.448154</td>\n",
       "      <td>0.060018</td>\n",
       "      <td>-0.082361</td>\n",
       "      <td>-0.078803</td>\n",
       "      <td>0.085102</td>\n",
       "      <td>-0.255425</td>\n",
       "      <td>...</td>\n",
       "      <td>-0.225775</td>\n",
       "      <td>-0.638672</td>\n",
       "      <td>0.101288</td>\n",
       "      <td>-0.339846</td>\n",
       "      <td>0.167170</td>\n",
       "      <td>0.125895</td>\n",
       "      <td>-0.008983</td>\n",
       "      <td>0.014724</td>\n",
       "      <td>2.69</td>\n",
       "      <td>0</td>\n",
       "    </tr>\n",
       "    <tr>\n",
       "      <th>2</th>\n",
       "      <td>1.0</td>\n",
       "      <td>-1.358354</td>\n",
       "      <td>-1.340163</td>\n",
       "      <td>1.773209</td>\n",
       "      <td>0.379780</td>\n",
       "      <td>-0.503198</td>\n",
       "      <td>1.800499</td>\n",
       "      <td>0.791461</td>\n",
       "      <td>0.247676</td>\n",
       "      <td>-1.514654</td>\n",
       "      <td>...</td>\n",
       "      <td>0.247998</td>\n",
       "      <td>0.771679</td>\n",
       "      <td>0.909412</td>\n",
       "      <td>-0.689281</td>\n",
       "      <td>-0.327642</td>\n",
       "      <td>-0.139097</td>\n",
       "      <td>-0.055353</td>\n",
       "      <td>-0.059752</td>\n",
       "      <td>378.66</td>\n",
       "      <td>0</td>\n",
       "    </tr>\n",
       "    <tr>\n",
       "      <th>3</th>\n",
       "      <td>1.0</td>\n",
       "      <td>-0.966272</td>\n",
       "      <td>-0.185226</td>\n",
       "      <td>1.792993</td>\n",
       "      <td>-0.863291</td>\n",
       "      <td>-0.010309</td>\n",
       "      <td>1.247203</td>\n",
       "      <td>0.237609</td>\n",
       "      <td>0.377436</td>\n",
       "      <td>-1.387024</td>\n",
       "      <td>...</td>\n",
       "      <td>-0.108300</td>\n",
       "      <td>0.005274</td>\n",
       "      <td>-0.190321</td>\n",
       "      <td>-1.175575</td>\n",
       "      <td>0.647376</td>\n",
       "      <td>-0.221929</td>\n",
       "      <td>0.062723</td>\n",
       "      <td>0.061458</td>\n",
       "      <td>123.50</td>\n",
       "      <td>0</td>\n",
       "    </tr>\n",
       "    <tr>\n",
       "      <th>4</th>\n",
       "      <td>2.0</td>\n",
       "      <td>-1.158233</td>\n",
       "      <td>0.877737</td>\n",
       "      <td>1.548718</td>\n",
       "      <td>0.403034</td>\n",
       "      <td>-0.407193</td>\n",
       "      <td>0.095921</td>\n",
       "      <td>0.592941</td>\n",
       "      <td>-0.270533</td>\n",
       "      <td>0.817739</td>\n",
       "      <td>...</td>\n",
       "      <td>-0.009431</td>\n",
       "      <td>0.798278</td>\n",
       "      <td>-0.137458</td>\n",
       "      <td>0.141267</td>\n",
       "      <td>-0.206010</td>\n",
       "      <td>0.502292</td>\n",
       "      <td>0.219422</td>\n",
       "      <td>0.215153</td>\n",
       "      <td>69.99</td>\n",
       "      <td>0</td>\n",
       "    </tr>\n",
       "  </tbody>\n",
       "</table>\n",
       "<p>5 rows × 31 columns</p>\n",
       "</div>"
      ],
      "text/plain": [
       "   Time        V1        V2        V3        V4        V5        V6        V7  \\\n",
       "0   0.0 -1.359807 -0.072781  2.536347  1.378155 -0.338321  0.462388  0.239599   \n",
       "1   0.0  1.191857  0.266151  0.166480  0.448154  0.060018 -0.082361 -0.078803   \n",
       "2   1.0 -1.358354 -1.340163  1.773209  0.379780 -0.503198  1.800499  0.791461   \n",
       "3   1.0 -0.966272 -0.185226  1.792993 -0.863291 -0.010309  1.247203  0.237609   \n",
       "4   2.0 -1.158233  0.877737  1.548718  0.403034 -0.407193  0.095921  0.592941   \n",
       "\n",
       "         V8        V9  ...       V21       V22       V23       V24       V25  \\\n",
       "0  0.098698  0.363787  ... -0.018307  0.277838 -0.110474  0.066928  0.128539   \n",
       "1  0.085102 -0.255425  ... -0.225775 -0.638672  0.101288 -0.339846  0.167170   \n",
       "2  0.247676 -1.514654  ...  0.247998  0.771679  0.909412 -0.689281 -0.327642   \n",
       "3  0.377436 -1.387024  ... -0.108300  0.005274 -0.190321 -1.175575  0.647376   \n",
       "4 -0.270533  0.817739  ... -0.009431  0.798278 -0.137458  0.141267 -0.206010   \n",
       "\n",
       "        V26       V27       V28  Amount  Class  \n",
       "0 -0.189115  0.133558 -0.021053  149.62      0  \n",
       "1  0.125895 -0.008983  0.014724    2.69      0  \n",
       "2 -0.139097 -0.055353 -0.059752  378.66      0  \n",
       "3 -0.221929  0.062723  0.061458  123.50      0  \n",
       "4  0.502292  0.219422  0.215153   69.99      0  \n",
       "\n",
       "[5 rows x 31 columns]"
      ]
     },
     "execution_count": 4,
     "metadata": {},
     "output_type": "execute_result"
    }
   ],
   "source": [
    "fraud_detection.head()"
   ]
  },
  {
   "cell_type": "code",
   "execution_count": 5,
   "id": "9c57c245",
   "metadata": {},
   "outputs": [
    {
     "data": {
      "text/html": [
       "<div>\n",
       "<style scoped>\n",
       "    .dataframe tbody tr th:only-of-type {\n",
       "        vertical-align: middle;\n",
       "    }\n",
       "\n",
       "    .dataframe tbody tr th {\n",
       "        vertical-align: top;\n",
       "    }\n",
       "\n",
       "    .dataframe thead th {\n",
       "        text-align: right;\n",
       "    }\n",
       "</style>\n",
       "<table border=\"1\" class=\"dataframe\">\n",
       "  <thead>\n",
       "    <tr style=\"text-align: right;\">\n",
       "      <th></th>\n",
       "      <th>Time</th>\n",
       "      <th>V1</th>\n",
       "      <th>V2</th>\n",
       "      <th>V3</th>\n",
       "      <th>V4</th>\n",
       "      <th>V5</th>\n",
       "      <th>V6</th>\n",
       "      <th>V7</th>\n",
       "      <th>V8</th>\n",
       "      <th>V9</th>\n",
       "      <th>...</th>\n",
       "      <th>V21</th>\n",
       "      <th>V22</th>\n",
       "      <th>V23</th>\n",
       "      <th>V24</th>\n",
       "      <th>V25</th>\n",
       "      <th>V26</th>\n",
       "      <th>V27</th>\n",
       "      <th>V28</th>\n",
       "      <th>Amount</th>\n",
       "      <th>Class</th>\n",
       "    </tr>\n",
       "  </thead>\n",
       "  <tbody>\n",
       "    <tr>\n",
       "      <th>284802</th>\n",
       "      <td>172786.0</td>\n",
       "      <td>-11.881118</td>\n",
       "      <td>10.071785</td>\n",
       "      <td>-9.834783</td>\n",
       "      <td>-2.066656</td>\n",
       "      <td>-5.364473</td>\n",
       "      <td>-2.606837</td>\n",
       "      <td>-4.918215</td>\n",
       "      <td>7.305334</td>\n",
       "      <td>1.914428</td>\n",
       "      <td>...</td>\n",
       "      <td>0.213454</td>\n",
       "      <td>0.111864</td>\n",
       "      <td>1.014480</td>\n",
       "      <td>-0.509348</td>\n",
       "      <td>1.436807</td>\n",
       "      <td>0.250034</td>\n",
       "      <td>0.943651</td>\n",
       "      <td>0.823731</td>\n",
       "      <td>0.77</td>\n",
       "      <td>0</td>\n",
       "    </tr>\n",
       "    <tr>\n",
       "      <th>284803</th>\n",
       "      <td>172787.0</td>\n",
       "      <td>-0.732789</td>\n",
       "      <td>-0.055080</td>\n",
       "      <td>2.035030</td>\n",
       "      <td>-0.738589</td>\n",
       "      <td>0.868229</td>\n",
       "      <td>1.058415</td>\n",
       "      <td>0.024330</td>\n",
       "      <td>0.294869</td>\n",
       "      <td>0.584800</td>\n",
       "      <td>...</td>\n",
       "      <td>0.214205</td>\n",
       "      <td>0.924384</td>\n",
       "      <td>0.012463</td>\n",
       "      <td>-1.016226</td>\n",
       "      <td>-0.606624</td>\n",
       "      <td>-0.395255</td>\n",
       "      <td>0.068472</td>\n",
       "      <td>-0.053527</td>\n",
       "      <td>24.79</td>\n",
       "      <td>0</td>\n",
       "    </tr>\n",
       "    <tr>\n",
       "      <th>284804</th>\n",
       "      <td>172788.0</td>\n",
       "      <td>1.919565</td>\n",
       "      <td>-0.301254</td>\n",
       "      <td>-3.249640</td>\n",
       "      <td>-0.557828</td>\n",
       "      <td>2.630515</td>\n",
       "      <td>3.031260</td>\n",
       "      <td>-0.296827</td>\n",
       "      <td>0.708417</td>\n",
       "      <td>0.432454</td>\n",
       "      <td>...</td>\n",
       "      <td>0.232045</td>\n",
       "      <td>0.578229</td>\n",
       "      <td>-0.037501</td>\n",
       "      <td>0.640134</td>\n",
       "      <td>0.265745</td>\n",
       "      <td>-0.087371</td>\n",
       "      <td>0.004455</td>\n",
       "      <td>-0.026561</td>\n",
       "      <td>67.88</td>\n",
       "      <td>0</td>\n",
       "    </tr>\n",
       "    <tr>\n",
       "      <th>284805</th>\n",
       "      <td>172788.0</td>\n",
       "      <td>-0.240440</td>\n",
       "      <td>0.530483</td>\n",
       "      <td>0.702510</td>\n",
       "      <td>0.689799</td>\n",
       "      <td>-0.377961</td>\n",
       "      <td>0.623708</td>\n",
       "      <td>-0.686180</td>\n",
       "      <td>0.679145</td>\n",
       "      <td>0.392087</td>\n",
       "      <td>...</td>\n",
       "      <td>0.265245</td>\n",
       "      <td>0.800049</td>\n",
       "      <td>-0.163298</td>\n",
       "      <td>0.123205</td>\n",
       "      <td>-0.569159</td>\n",
       "      <td>0.546668</td>\n",
       "      <td>0.108821</td>\n",
       "      <td>0.104533</td>\n",
       "      <td>10.00</td>\n",
       "      <td>0</td>\n",
       "    </tr>\n",
       "    <tr>\n",
       "      <th>284806</th>\n",
       "      <td>172792.0</td>\n",
       "      <td>-0.533413</td>\n",
       "      <td>-0.189733</td>\n",
       "      <td>0.703337</td>\n",
       "      <td>-0.506271</td>\n",
       "      <td>-0.012546</td>\n",
       "      <td>-0.649617</td>\n",
       "      <td>1.577006</td>\n",
       "      <td>-0.414650</td>\n",
       "      <td>0.486180</td>\n",
       "      <td>...</td>\n",
       "      <td>0.261057</td>\n",
       "      <td>0.643078</td>\n",
       "      <td>0.376777</td>\n",
       "      <td>0.008797</td>\n",
       "      <td>-0.473649</td>\n",
       "      <td>-0.818267</td>\n",
       "      <td>-0.002415</td>\n",
       "      <td>0.013649</td>\n",
       "      <td>217.00</td>\n",
       "      <td>0</td>\n",
       "    </tr>\n",
       "  </tbody>\n",
       "</table>\n",
       "<p>5 rows × 31 columns</p>\n",
       "</div>"
      ],
      "text/plain": [
       "            Time         V1         V2        V3        V4        V5  \\\n",
       "284802  172786.0 -11.881118  10.071785 -9.834783 -2.066656 -5.364473   \n",
       "284803  172787.0  -0.732789  -0.055080  2.035030 -0.738589  0.868229   \n",
       "284804  172788.0   1.919565  -0.301254 -3.249640 -0.557828  2.630515   \n",
       "284805  172788.0  -0.240440   0.530483  0.702510  0.689799 -0.377961   \n",
       "284806  172792.0  -0.533413  -0.189733  0.703337 -0.506271 -0.012546   \n",
       "\n",
       "              V6        V7        V8        V9  ...       V21       V22  \\\n",
       "284802 -2.606837 -4.918215  7.305334  1.914428  ...  0.213454  0.111864   \n",
       "284803  1.058415  0.024330  0.294869  0.584800  ...  0.214205  0.924384   \n",
       "284804  3.031260 -0.296827  0.708417  0.432454  ...  0.232045  0.578229   \n",
       "284805  0.623708 -0.686180  0.679145  0.392087  ...  0.265245  0.800049   \n",
       "284806 -0.649617  1.577006 -0.414650  0.486180  ...  0.261057  0.643078   \n",
       "\n",
       "             V23       V24       V25       V26       V27       V28  Amount  \\\n",
       "284802  1.014480 -0.509348  1.436807  0.250034  0.943651  0.823731    0.77   \n",
       "284803  0.012463 -1.016226 -0.606624 -0.395255  0.068472 -0.053527   24.79   \n",
       "284804 -0.037501  0.640134  0.265745 -0.087371  0.004455 -0.026561   67.88   \n",
       "284805 -0.163298  0.123205 -0.569159  0.546668  0.108821  0.104533   10.00   \n",
       "284806  0.376777  0.008797 -0.473649 -0.818267 -0.002415  0.013649  217.00   \n",
       "\n",
       "        Class  \n",
       "284802      0  \n",
       "284803      0  \n",
       "284804      0  \n",
       "284805      0  \n",
       "284806      0  \n",
       "\n",
       "[5 rows x 31 columns]"
      ]
     },
     "execution_count": 5,
     "metadata": {},
     "output_type": "execute_result"
    }
   ],
   "source": [
    "fraud_detection.tail()"
   ]
  },
  {
   "cell_type": "markdown",
   "id": "1f739f51-33bf-414b-92cf-193061384592",
   "metadata": {},
   "source": [
    "#### Checks for missing values."
   ]
  },
  {
   "cell_type": "code",
   "execution_count": 6,
   "id": "5f35d8b5-eec9-47b6-b9ca-9d4fd8d6166d",
   "metadata": {},
   "outputs": [
    {
     "data": {
      "text/plain": [
       "Time      0\n",
       "V1        0\n",
       "V2        0\n",
       "V3        0\n",
       "V4        0\n",
       "V5        0\n",
       "V6        0\n",
       "V7        0\n",
       "V8        0\n",
       "V9        0\n",
       "V10       0\n",
       "V11       0\n",
       "V12       0\n",
       "V13       0\n",
       "V14       0\n",
       "V15       0\n",
       "V16       0\n",
       "V17       0\n",
       "V18       0\n",
       "V19       0\n",
       "V20       0\n",
       "V21       0\n",
       "V22       0\n",
       "V23       0\n",
       "V24       0\n",
       "V25       0\n",
       "V26       0\n",
       "V27       0\n",
       "V28       0\n",
       "Amount    0\n",
       "Class     0\n",
       "dtype: int64"
      ]
     },
     "execution_count": 6,
     "metadata": {},
     "output_type": "execute_result"
    }
   ],
   "source": [
    "fraud_detection.isnull().sum()"
   ]
  },
  {
   "cell_type": "markdown",
   "id": "679a5aeb-3661-4754-a398-5618f7743f95",
   "metadata": {},
   "source": [
    "#### Counts the number of fraud (1) and non-fraud (0) transactions.\n",
    "\n"
   ]
  },
  {
   "cell_type": "code",
   "execution_count": 7,
   "id": "95cc4447-01af-458f-82ec-82658e2d69fe",
   "metadata": {},
   "outputs": [
    {
     "data": {
      "text/plain": [
       "Class\n",
       "0    284315\n",
       "1       492\n",
       "Name: count, dtype: int64"
      ]
     },
     "execution_count": 7,
     "metadata": {},
     "output_type": "execute_result"
    }
   ],
   "source": [
    "fraud_detection['Class'].value_counts()"
   ]
  },
  {
   "cell_type": "markdown",
   "id": "e82e82eb-b253-4153-b243-5be14bb58680",
   "metadata": {},
   "source": [
    "### 3. Splitting the Data into Fraudulent and Legitimate Transactions"
   ]
  },
  {
   "cell_type": "markdown",
   "id": "3d07a320-9bad-4a08-b9bc-8fc57189f1bb",
   "metadata": {},
   "source": [
    "#### Splits the dataset into two separate DataFrames.\n",
    "\n",
    "#####  legit → Non-fraudulent transactions.\n",
    "\n",
    "##### fraud → Fraudulent transactions."
   ]
  },
  {
   "cell_type": "code",
   "execution_count": 8,
   "id": "6cae6060-f9dc-4eec-8974-8659b8e04a34",
   "metadata": {},
   "outputs": [],
   "source": [
    "legit = fraud_detection[fraud_detection.Class == 0]\n",
    "fraud = fraud_detection[fraud_detection.Class == 1]"
   ]
  },
  {
   "cell_type": "markdown",
   "id": "6be55241-004d-47d0-9c84-71111b9fdca3",
   "metadata": {},
   "source": [
    "#### Displays the number of records in each category.\n",
    "\n"
   ]
  },
  {
   "cell_type": "code",
   "execution_count": 9,
   "id": "d88a641e-fa1f-493d-94f3-31148d3f9e26",
   "metadata": {},
   "outputs": [
    {
     "name": "stdout",
     "output_type": "stream",
     "text": [
      "(284315, 31)\n",
      "(492, 31)\n"
     ]
    }
   ],
   "source": [
    "print(legit.shape)\n",
    "print(fraud.shape)"
   ]
  },
  {
   "cell_type": "markdown",
   "id": "002384a9-4523-4428-92a4-1619b39a3dfb",
   "metadata": {},
   "source": [
    "### 4. Statistical Analysis"
   ]
  },
  {
   "cell_type": "markdown",
   "id": "e032b150-88d6-486d-9303-935e0de029ec",
   "metadata": {},
   "source": [
    "#### Summarizes transaction amounts for both classes."
   ]
  },
  {
   "cell_type": "code",
   "execution_count": 10,
   "id": "8e77505c-356e-47c4-850f-e769cadd9367",
   "metadata": {},
   "outputs": [
    {
     "data": {
      "text/plain": [
       "count    284315.000000\n",
       "mean         88.291022\n",
       "std         250.105092\n",
       "min           0.000000\n",
       "25%           5.650000\n",
       "50%          22.000000\n",
       "75%          77.050000\n",
       "max       25691.160000\n",
       "Name: Amount, dtype: float64"
      ]
     },
     "execution_count": 10,
     "metadata": {},
     "output_type": "execute_result"
    }
   ],
   "source": [
    "legit.Amount.describe()"
   ]
  },
  {
   "cell_type": "code",
   "execution_count": 11,
   "id": "2d8a230d",
   "metadata": {},
   "outputs": [
    {
     "data": {
      "text/plain": [
       "count     492.000000\n",
       "mean      122.211321\n",
       "std       256.683288\n",
       "min         0.000000\n",
       "25%         1.000000\n",
       "50%         9.250000\n",
       "75%       105.890000\n",
       "max      2125.870000\n",
       "Name: Amount, dtype: float64"
      ]
     },
     "execution_count": 11,
     "metadata": {},
     "output_type": "execute_result"
    }
   ],
   "source": [
    "fraud.Amount.describe()"
   ]
  },
  {
   "cell_type": "markdown",
   "id": "b257163d-1787-4b03-8f61-71299ee8141f",
   "metadata": {},
   "source": [
    "#### Computes the mean of all features grouped by transaction type.\n",
    "\n"
   ]
  },
  {
   "cell_type": "code",
   "execution_count": 12,
   "id": "e21b932f",
   "metadata": {},
   "outputs": [
    {
     "data": {
      "text/html": [
       "<div>\n",
       "<style scoped>\n",
       "    .dataframe tbody tr th:only-of-type {\n",
       "        vertical-align: middle;\n",
       "    }\n",
       "\n",
       "    .dataframe tbody tr th {\n",
       "        vertical-align: top;\n",
       "    }\n",
       "\n",
       "    .dataframe thead th {\n",
       "        text-align: right;\n",
       "    }\n",
       "</style>\n",
       "<table border=\"1\" class=\"dataframe\">\n",
       "  <thead>\n",
       "    <tr style=\"text-align: right;\">\n",
       "      <th></th>\n",
       "      <th>Time</th>\n",
       "      <th>V1</th>\n",
       "      <th>V2</th>\n",
       "      <th>V3</th>\n",
       "      <th>V4</th>\n",
       "      <th>V5</th>\n",
       "      <th>V6</th>\n",
       "      <th>V7</th>\n",
       "      <th>V8</th>\n",
       "      <th>V9</th>\n",
       "      <th>...</th>\n",
       "      <th>V20</th>\n",
       "      <th>V21</th>\n",
       "      <th>V22</th>\n",
       "      <th>V23</th>\n",
       "      <th>V24</th>\n",
       "      <th>V25</th>\n",
       "      <th>V26</th>\n",
       "      <th>V27</th>\n",
       "      <th>V28</th>\n",
       "      <th>Amount</th>\n",
       "    </tr>\n",
       "    <tr>\n",
       "      <th>Class</th>\n",
       "      <th></th>\n",
       "      <th></th>\n",
       "      <th></th>\n",
       "      <th></th>\n",
       "      <th></th>\n",
       "      <th></th>\n",
       "      <th></th>\n",
       "      <th></th>\n",
       "      <th></th>\n",
       "      <th></th>\n",
       "      <th></th>\n",
       "      <th></th>\n",
       "      <th></th>\n",
       "      <th></th>\n",
       "      <th></th>\n",
       "      <th></th>\n",
       "      <th></th>\n",
       "      <th></th>\n",
       "      <th></th>\n",
       "      <th></th>\n",
       "      <th></th>\n",
       "    </tr>\n",
       "  </thead>\n",
       "  <tbody>\n",
       "    <tr>\n",
       "      <th>0</th>\n",
       "      <td>94838.202258</td>\n",
       "      <td>0.008258</td>\n",
       "      <td>-0.006271</td>\n",
       "      <td>0.012171</td>\n",
       "      <td>-0.007860</td>\n",
       "      <td>0.005453</td>\n",
       "      <td>0.002419</td>\n",
       "      <td>0.009637</td>\n",
       "      <td>-0.000987</td>\n",
       "      <td>0.004467</td>\n",
       "      <td>...</td>\n",
       "      <td>-0.000644</td>\n",
       "      <td>-0.001235</td>\n",
       "      <td>-0.000024</td>\n",
       "      <td>0.000070</td>\n",
       "      <td>0.000182</td>\n",
       "      <td>-0.000072</td>\n",
       "      <td>-0.000089</td>\n",
       "      <td>-0.000295</td>\n",
       "      <td>-0.000131</td>\n",
       "      <td>88.291022</td>\n",
       "    </tr>\n",
       "    <tr>\n",
       "      <th>1</th>\n",
       "      <td>80746.806911</td>\n",
       "      <td>-4.771948</td>\n",
       "      <td>3.623778</td>\n",
       "      <td>-7.033281</td>\n",
       "      <td>4.542029</td>\n",
       "      <td>-3.151225</td>\n",
       "      <td>-1.397737</td>\n",
       "      <td>-5.568731</td>\n",
       "      <td>0.570636</td>\n",
       "      <td>-2.581123</td>\n",
       "      <td>...</td>\n",
       "      <td>0.372319</td>\n",
       "      <td>0.713588</td>\n",
       "      <td>0.014049</td>\n",
       "      <td>-0.040308</td>\n",
       "      <td>-0.105130</td>\n",
       "      <td>0.041449</td>\n",
       "      <td>0.051648</td>\n",
       "      <td>0.170575</td>\n",
       "      <td>0.075667</td>\n",
       "      <td>122.211321</td>\n",
       "    </tr>\n",
       "  </tbody>\n",
       "</table>\n",
       "<p>2 rows × 30 columns</p>\n",
       "</div>"
      ],
      "text/plain": [
       "               Time        V1        V2        V3        V4        V5  \\\n",
       "Class                                                                   \n",
       "0      94838.202258  0.008258 -0.006271  0.012171 -0.007860  0.005453   \n",
       "1      80746.806911 -4.771948  3.623778 -7.033281  4.542029 -3.151225   \n",
       "\n",
       "             V6        V7        V8        V9  ...       V20       V21  \\\n",
       "Class                                          ...                       \n",
       "0      0.002419  0.009637 -0.000987  0.004467  ... -0.000644 -0.001235   \n",
       "1     -1.397737 -5.568731  0.570636 -2.581123  ...  0.372319  0.713588   \n",
       "\n",
       "            V22       V23       V24       V25       V26       V27       V28  \\\n",
       "Class                                                                         \n",
       "0     -0.000024  0.000070  0.000182 -0.000072 -0.000089 -0.000295 -0.000131   \n",
       "1      0.014049 -0.040308 -0.105130  0.041449  0.051648  0.170575  0.075667   \n",
       "\n",
       "           Amount  \n",
       "Class              \n",
       "0       88.291022  \n",
       "1      122.211321  \n",
       "\n",
       "[2 rows x 30 columns]"
      ]
     },
     "execution_count": 12,
     "metadata": {},
     "output_type": "execute_result"
    }
   ],
   "source": [
    "fraud_detection.groupby('Class').mean()"
   ]
  },
  {
   "cell_type": "markdown",
   "id": "6ef0aac7-4fcf-4f77-a004-0a2dc149eb2a",
   "metadata": {},
   "source": [
    "### 5. Balancing the Dataset"
   ]
  },
  {
   "cell_type": "markdown",
   "id": "7e7f42b8-b364-4add-b4a3-a26b58b33bc9",
   "metadata": {},
   "source": [
    "##### The original dataset is imbalanced (more legitimate transactions than fraudulent ones).\n",
    "\n",
    "##### We sample 492 legitimate transactions (same as fraud cases) to create a balanced dataset.\n",
    "\n",
    "\n",
    "##### Merges the balanced data for better model performance."
   ]
  },
  {
   "cell_type": "code",
   "execution_count": 13,
   "id": "ce374a01-2123-4e22-b716-773bcb5ca459",
   "metadata": {},
   "outputs": [],
   "source": [
    "legit_sample = legit.sample(n=492)\n",
    " "
   ]
  },
  {
   "cell_type": "code",
   "execution_count": 14,
   "id": "1aeb1514",
   "metadata": {},
   "outputs": [],
   "source": [
    "new_dataset = pd.concat([legit_sample,fraud],axis=0)"
   ]
  },
  {
   "cell_type": "code",
   "execution_count": 15,
   "id": "bee10e24",
   "metadata": {},
   "outputs": [
    {
     "data": {
      "text/plain": [
       "Class\n",
       "0    492\n",
       "1    492\n",
       "Name: count, dtype: int64"
      ]
     },
     "execution_count": 15,
     "metadata": {},
     "output_type": "execute_result"
    }
   ],
   "source": [
    "new_dataset['Class'].value_counts()"
   ]
  },
  {
   "cell_type": "code",
   "execution_count": 16,
   "id": "a09342fa",
   "metadata": {},
   "outputs": [
    {
     "data": {
      "text/html": [
       "<div>\n",
       "<style scoped>\n",
       "    .dataframe tbody tr th:only-of-type {\n",
       "        vertical-align: middle;\n",
       "    }\n",
       "\n",
       "    .dataframe tbody tr th {\n",
       "        vertical-align: top;\n",
       "    }\n",
       "\n",
       "    .dataframe thead th {\n",
       "        text-align: right;\n",
       "    }\n",
       "</style>\n",
       "<table border=\"1\" class=\"dataframe\">\n",
       "  <thead>\n",
       "    <tr style=\"text-align: right;\">\n",
       "      <th></th>\n",
       "      <th>Time</th>\n",
       "      <th>V1</th>\n",
       "      <th>V2</th>\n",
       "      <th>V3</th>\n",
       "      <th>V4</th>\n",
       "      <th>V5</th>\n",
       "      <th>V6</th>\n",
       "      <th>V7</th>\n",
       "      <th>V8</th>\n",
       "      <th>V9</th>\n",
       "      <th>...</th>\n",
       "      <th>V21</th>\n",
       "      <th>V22</th>\n",
       "      <th>V23</th>\n",
       "      <th>V24</th>\n",
       "      <th>V25</th>\n",
       "      <th>V26</th>\n",
       "      <th>V27</th>\n",
       "      <th>V28</th>\n",
       "      <th>Amount</th>\n",
       "      <th>Class</th>\n",
       "    </tr>\n",
       "  </thead>\n",
       "  <tbody>\n",
       "    <tr>\n",
       "      <th>262283</th>\n",
       "      <td>160396.0</td>\n",
       "      <td>-1.319125</td>\n",
       "      <td>0.786969</td>\n",
       "      <td>0.824547</td>\n",
       "      <td>-0.449334</td>\n",
       "      <td>-0.027541</td>\n",
       "      <td>-1.565659</td>\n",
       "      <td>0.933634</td>\n",
       "      <td>-0.385708</td>\n",
       "      <td>0.361141</td>\n",
       "      <td>...</td>\n",
       "      <td>-0.122295</td>\n",
       "      <td>-0.530629</td>\n",
       "      <td>0.283764</td>\n",
       "      <td>0.807238</td>\n",
       "      <td>-0.636792</td>\n",
       "      <td>0.051600</td>\n",
       "      <td>-0.771865</td>\n",
       "      <td>0.291271</td>\n",
       "      <td>1.98</td>\n",
       "      <td>0</td>\n",
       "    </tr>\n",
       "    <tr>\n",
       "      <th>199074</th>\n",
       "      <td>132796.0</td>\n",
       "      <td>-1.645271</td>\n",
       "      <td>1.626502</td>\n",
       "      <td>1.207925</td>\n",
       "      <td>2.873895</td>\n",
       "      <td>-0.330077</td>\n",
       "      <td>0.328809</td>\n",
       "      <td>-0.368182</td>\n",
       "      <td>0.990243</td>\n",
       "      <td>-1.170417</td>\n",
       "      <td>...</td>\n",
       "      <td>0.450746</td>\n",
       "      <td>0.886486</td>\n",
       "      <td>-0.137708</td>\n",
       "      <td>-0.040727</td>\n",
       "      <td>-0.383486</td>\n",
       "      <td>0.000354</td>\n",
       "      <td>-0.503884</td>\n",
       "      <td>0.076193</td>\n",
       "      <td>11.83</td>\n",
       "      <td>0</td>\n",
       "    </tr>\n",
       "    <tr>\n",
       "      <th>69320</th>\n",
       "      <td>53366.0</td>\n",
       "      <td>-0.843299</td>\n",
       "      <td>0.948830</td>\n",
       "      <td>1.528155</td>\n",
       "      <td>1.020372</td>\n",
       "      <td>-0.406633</td>\n",
       "      <td>0.106488</td>\n",
       "      <td>-0.251991</td>\n",
       "      <td>0.530632</td>\n",
       "      <td>0.055836</td>\n",
       "      <td>...</td>\n",
       "      <td>0.221781</td>\n",
       "      <td>0.701736</td>\n",
       "      <td>-0.239919</td>\n",
       "      <td>-0.108551</td>\n",
       "      <td>-0.015222</td>\n",
       "      <td>-0.163695</td>\n",
       "      <td>-0.063478</td>\n",
       "      <td>0.076896</td>\n",
       "      <td>1.55</td>\n",
       "      <td>0</td>\n",
       "    </tr>\n",
       "    <tr>\n",
       "      <th>162825</th>\n",
       "      <td>115403.0</td>\n",
       "      <td>2.120339</td>\n",
       "      <td>-0.610648</td>\n",
       "      <td>-1.570151</td>\n",
       "      <td>-0.443605</td>\n",
       "      <td>-0.138722</td>\n",
       "      <td>-0.532550</td>\n",
       "      <td>-0.188856</td>\n",
       "      <td>-0.126674</td>\n",
       "      <td>-0.591007</td>\n",
       "      <td>...</td>\n",
       "      <td>-0.415409</td>\n",
       "      <td>-0.664351</td>\n",
       "      <td>0.264029</td>\n",
       "      <td>0.635941</td>\n",
       "      <td>-0.017988</td>\n",
       "      <td>-0.423620</td>\n",
       "      <td>-0.014145</td>\n",
       "      <td>-0.058506</td>\n",
       "      <td>12.18</td>\n",
       "      <td>0</td>\n",
       "    </tr>\n",
       "    <tr>\n",
       "      <th>190485</th>\n",
       "      <td>128856.0</td>\n",
       "      <td>2.302357</td>\n",
       "      <td>-0.592765</td>\n",
       "      <td>-2.669126</td>\n",
       "      <td>-1.383126</td>\n",
       "      <td>0.777278</td>\n",
       "      <td>-0.364018</td>\n",
       "      <td>0.076396</td>\n",
       "      <td>-0.285246</td>\n",
       "      <td>-1.131470</td>\n",
       "      <td>...</td>\n",
       "      <td>0.324475</td>\n",
       "      <td>0.864855</td>\n",
       "      <td>-0.181879</td>\n",
       "      <td>-0.414112</td>\n",
       "      <td>0.565038</td>\n",
       "      <td>0.102589</td>\n",
       "      <td>-0.088900</td>\n",
       "      <td>-0.095817</td>\n",
       "      <td>18.95</td>\n",
       "      <td>0</td>\n",
       "    </tr>\n",
       "  </tbody>\n",
       "</table>\n",
       "<p>5 rows × 31 columns</p>\n",
       "</div>"
      ],
      "text/plain": [
       "            Time        V1        V2        V3        V4        V5        V6  \\\n",
       "262283  160396.0 -1.319125  0.786969  0.824547 -0.449334 -0.027541 -1.565659   \n",
       "199074  132796.0 -1.645271  1.626502  1.207925  2.873895 -0.330077  0.328809   \n",
       "69320    53366.0 -0.843299  0.948830  1.528155  1.020372 -0.406633  0.106488   \n",
       "162825  115403.0  2.120339 -0.610648 -1.570151 -0.443605 -0.138722 -0.532550   \n",
       "190485  128856.0  2.302357 -0.592765 -2.669126 -1.383126  0.777278 -0.364018   \n",
       "\n",
       "              V7        V8        V9  ...       V21       V22       V23  \\\n",
       "262283  0.933634 -0.385708  0.361141  ... -0.122295 -0.530629  0.283764   \n",
       "199074 -0.368182  0.990243 -1.170417  ...  0.450746  0.886486 -0.137708   \n",
       "69320  -0.251991  0.530632  0.055836  ...  0.221781  0.701736 -0.239919   \n",
       "162825 -0.188856 -0.126674 -0.591007  ... -0.415409 -0.664351  0.264029   \n",
       "190485  0.076396 -0.285246 -1.131470  ...  0.324475  0.864855 -0.181879   \n",
       "\n",
       "             V24       V25       V26       V27       V28  Amount  Class  \n",
       "262283  0.807238 -0.636792  0.051600 -0.771865  0.291271    1.98      0  \n",
       "199074 -0.040727 -0.383486  0.000354 -0.503884  0.076193   11.83      0  \n",
       "69320  -0.108551 -0.015222 -0.163695 -0.063478  0.076896    1.55      0  \n",
       "162825  0.635941 -0.017988 -0.423620 -0.014145 -0.058506   12.18      0  \n",
       "190485 -0.414112  0.565038  0.102589 -0.088900 -0.095817   18.95      0  \n",
       "\n",
       "[5 rows x 31 columns]"
      ]
     },
     "execution_count": 16,
     "metadata": {},
     "output_type": "execute_result"
    }
   ],
   "source": [
    "new_dataset.head()"
   ]
  },
  {
   "cell_type": "markdown",
   "id": "e00addab-94ad-43bc-a7d3-915a861e77f0",
   "metadata": {},
   "source": [
    "### 6. Splitting Data into Features & Labels"
   ]
  },
  {
   "cell_type": "markdown",
   "id": "edd85e87-6671-4d2b-adbc-52a84ab5bed0",
   "metadata": {},
   "source": [
    "#### X contains all features except the target column (Class)."
   ]
  },
  {
   "cell_type": "code",
   "execution_count": 18,
   "id": "ae858f16-b5a1-4e21-ba30-ac03a7e4e5fb",
   "metadata": {},
   "outputs": [
    {
     "name": "stdout",
     "output_type": "stream",
     "text": [
      "            Time        V1        V2        V3        V4        V5        V6  \\\n",
      "262283  160396.0 -1.319125  0.786969  0.824547 -0.449334 -0.027541 -1.565659   \n",
      "199074  132796.0 -1.645271  1.626502  1.207925  2.873895 -0.330077  0.328809   \n",
      "69320    53366.0 -0.843299  0.948830  1.528155  1.020372 -0.406633  0.106488   \n",
      "162825  115403.0  2.120339 -0.610648 -1.570151 -0.443605 -0.138722 -0.532550   \n",
      "190485  128856.0  2.302357 -0.592765 -2.669126 -1.383126  0.777278 -0.364018   \n",
      "...          ...       ...       ...       ...       ...       ...       ...   \n",
      "279863  169142.0 -1.927883  1.125653 -4.518331  1.749293 -1.566487 -2.010494   \n",
      "280143  169347.0  1.378559  1.289381 -5.004247  1.411850  0.442581 -1.326536   \n",
      "280149  169351.0 -0.676143  1.126366 -2.213700  0.468308 -1.120541 -0.003346   \n",
      "281144  169966.0 -3.113832  0.585864 -5.399730  1.817092 -0.840618 -2.943548   \n",
      "281674  170348.0  1.991976  0.158476 -2.583441  0.408670  1.151147 -0.096695   \n",
      "\n",
      "              V7        V8        V9  ...       V20       V21       V22  \\\n",
      "262283  0.933634 -0.385708  0.361141  ... -0.559913 -0.122295 -0.530629   \n",
      "199074 -0.368182  0.990243 -1.170417  ... -0.511216  0.450746  0.886486   \n",
      "69320  -0.251991  0.530632  0.055836  ... -0.113158  0.221781  0.701736   \n",
      "162825 -0.188856 -0.126674 -0.591007  ... -0.673139 -0.415409 -0.664351   \n",
      "190485  0.076396 -0.285246 -1.131470  ...  0.011156  0.324475  0.864855   \n",
      "...          ...       ...       ...  ...       ...       ...       ...   \n",
      "279863 -0.882850  0.697211 -2.064945  ...  1.252967  0.778584 -0.319189   \n",
      "280143 -1.413170  0.248525 -1.127396  ...  0.226138  0.370612  0.028234   \n",
      "280149 -2.234739  1.210158 -0.652250  ...  0.247968  0.751826  0.834108   \n",
      "281144 -2.208002  1.058733 -1.632333  ...  0.306271  0.583276 -0.269209   \n",
      "281674  0.223050 -0.068384  0.577829  ... -0.017652 -0.164350 -0.295135   \n",
      "\n",
      "             V23       V24       V25       V26       V27       V28  Amount  \n",
      "262283  0.283764  0.807238 -0.636792  0.051600 -0.771865  0.291271    1.98  \n",
      "199074 -0.137708 -0.040727 -0.383486  0.000354 -0.503884  0.076193   11.83  \n",
      "69320  -0.239919 -0.108551 -0.015222 -0.163695 -0.063478  0.076896    1.55  \n",
      "162825  0.264029  0.635941 -0.017988 -0.423620 -0.014145 -0.058506   12.18  \n",
      "190485 -0.181879 -0.414112  0.565038  0.102589 -0.088900 -0.095817   18.95  \n",
      "...          ...       ...       ...       ...       ...       ...     ...  \n",
      "279863  0.639419 -0.294885  0.537503  0.788395  0.292680  0.147968  390.00  \n",
      "280143 -0.145640 -0.081049  0.521875  0.739467  0.389152  0.186637    0.76  \n",
      "280149  0.190944  0.032070 -0.739695  0.471111  0.385107  0.194361   77.89  \n",
      "281144 -0.456108 -0.183659 -0.328168  0.606116  0.884876 -0.253700  245.00  \n",
      "281674 -0.072173 -0.450261  0.313267 -0.289617  0.002988 -0.015309   42.53  \n",
      "\n",
      "[984 rows x 30 columns]\n"
     ]
    }
   ],
   "source": [
    "X = new_dataset.drop(columns='Class',axis=1)\n",
    "print(X)"
   ]
  },
  {
   "cell_type": "markdown",
   "id": "3468ec7c-280a-47e7-82ea-768299083c59",
   "metadata": {},
   "source": [
    "#### Y contains the labels (fraud or non-fraud)."
   ]
  },
  {
   "cell_type": "code",
   "execution_count": 21,
   "id": "1be4a0c8-53c8-4559-8c68-8768f2a3ae5b",
   "metadata": {},
   "outputs": [
    {
     "name": "stdout",
     "output_type": "stream",
     "text": [
      "262283    0\n",
      "199074    0\n",
      "69320     0\n",
      "162825    0\n",
      "190485    0\n",
      "         ..\n",
      "279863    1\n",
      "280143    1\n",
      "280149    1\n",
      "281144    1\n",
      "281674    1\n",
      "Name: Class, Length: 984, dtype: int64\n"
     ]
    }
   ],
   "source": [
    "Y = new_dataset['Class']\n",
    "print(Y)"
   ]
  },
  {
   "cell_type": "markdown",
   "id": "bda256ae-4e5a-4e0a-9eea-0b7e81bc23fb",
   "metadata": {},
   "source": [
    "### 7. Splitting into Training and Test Sets\n",
    "\n"
   ]
  },
  {
   "cell_type": "markdown",
   "id": "ccff541b-7f2f-4178-9cdd-7065fa53f483",
   "metadata": {},
   "source": [
    "#### Splits data into 80% training and 20% test.\n",
    "\n",
    "#### Stratify=Y ensures equal distribution of fraud and non-fraud cases in both sets.\n",
    "\n",
    "#### random_state=2 ensures consistent results."
   ]
  },
  {
   "cell_type": "code",
   "execution_count": 23,
   "id": "44556169-e108-4468-8b7c-70f261c07f36",
   "metadata": {},
   "outputs": [
    {
     "name": "stdout",
     "output_type": "stream",
     "text": [
      "(984, 30) (787, 30) (197, 30)\n"
     ]
    }
   ],
   "source": [
    "X_train, X_test, Y_train, Y_test = train_test_split(X,Y,test_size=0.2, stratify=Y, random_state=2)\n",
    "print(X.shape,X_train.shape,X_test.shape)"
   ]
  },
  {
   "cell_type": "markdown",
   "id": "e2587e29-edbf-48db-bf78-5b25b7a3a5b9",
   "metadata": {},
   "source": [
    "### 8. Training the Model"
   ]
  },
  {
   "cell_type": "markdown",
   "id": "00f8441a-bd5d-41b5-a3c8-10a232ea0da5",
   "metadata": {},
   "source": [
    "#### Initializes Logistic Regression as the classification model.\n",
    "\n",
    "#### Trains it using the training dataset."
   ]
  },
  {
   "cell_type": "code",
   "execution_count": 25,
   "id": "09ce18ba-6b4d-4b52-b47a-3fc1b605c9ab",
   "metadata": {},
   "outputs": [
    {
     "data": {
      "text/html": [
       "<style>#sk-container-id-1 {color: black;}#sk-container-id-1 pre{padding: 0;}#sk-container-id-1 div.sk-toggleable {background-color: white;}#sk-container-id-1 label.sk-toggleable__label {cursor: pointer;display: block;width: 100%;margin-bottom: 0;padding: 0.3em;box-sizing: border-box;text-align: center;}#sk-container-id-1 label.sk-toggleable__label-arrow:before {content: \"▸\";float: left;margin-right: 0.25em;color: #696969;}#sk-container-id-1 label.sk-toggleable__label-arrow:hover:before {color: black;}#sk-container-id-1 div.sk-estimator:hover label.sk-toggleable__label-arrow:before {color: black;}#sk-container-id-1 div.sk-toggleable__content {max-height: 0;max-width: 0;overflow: hidden;text-align: left;background-color: #f0f8ff;}#sk-container-id-1 div.sk-toggleable__content pre {margin: 0.2em;color: black;border-radius: 0.25em;background-color: #f0f8ff;}#sk-container-id-1 input.sk-toggleable__control:checked~div.sk-toggleable__content {max-height: 200px;max-width: 100%;overflow: auto;}#sk-container-id-1 input.sk-toggleable__control:checked~label.sk-toggleable__label-arrow:before {content: \"▾\";}#sk-container-id-1 div.sk-estimator input.sk-toggleable__control:checked~label.sk-toggleable__label {background-color: #d4ebff;}#sk-container-id-1 div.sk-label input.sk-toggleable__control:checked~label.sk-toggleable__label {background-color: #d4ebff;}#sk-container-id-1 input.sk-hidden--visually {border: 0;clip: rect(1px 1px 1px 1px);clip: rect(1px, 1px, 1px, 1px);height: 1px;margin: -1px;overflow: hidden;padding: 0;position: absolute;width: 1px;}#sk-container-id-1 div.sk-estimator {font-family: monospace;background-color: #f0f8ff;border: 1px dotted black;border-radius: 0.25em;box-sizing: border-box;margin-bottom: 0.5em;}#sk-container-id-1 div.sk-estimator:hover {background-color: #d4ebff;}#sk-container-id-1 div.sk-parallel-item::after {content: \"\";width: 100%;border-bottom: 1px solid gray;flex-grow: 1;}#sk-container-id-1 div.sk-label:hover label.sk-toggleable__label {background-color: #d4ebff;}#sk-container-id-1 div.sk-serial::before {content: \"\";position: absolute;border-left: 1px solid gray;box-sizing: border-box;top: 0;bottom: 0;left: 50%;z-index: 0;}#sk-container-id-1 div.sk-serial {display: flex;flex-direction: column;align-items: center;background-color: white;padding-right: 0.2em;padding-left: 0.2em;position: relative;}#sk-container-id-1 div.sk-item {position: relative;z-index: 1;}#sk-container-id-1 div.sk-parallel {display: flex;align-items: stretch;justify-content: center;background-color: white;position: relative;}#sk-container-id-1 div.sk-item::before, #sk-container-id-1 div.sk-parallel-item::before {content: \"\";position: absolute;border-left: 1px solid gray;box-sizing: border-box;top: 0;bottom: 0;left: 50%;z-index: -1;}#sk-container-id-1 div.sk-parallel-item {display: flex;flex-direction: column;z-index: 1;position: relative;background-color: white;}#sk-container-id-1 div.sk-parallel-item:first-child::after {align-self: flex-end;width: 50%;}#sk-container-id-1 div.sk-parallel-item:last-child::after {align-self: flex-start;width: 50%;}#sk-container-id-1 div.sk-parallel-item:only-child::after {width: 0;}#sk-container-id-1 div.sk-dashed-wrapped {border: 1px dashed gray;margin: 0 0.4em 0.5em 0.4em;box-sizing: border-box;padding-bottom: 0.4em;background-color: white;}#sk-container-id-1 div.sk-label label {font-family: monospace;font-weight: bold;display: inline-block;line-height: 1.2em;}#sk-container-id-1 div.sk-label-container {text-align: center;}#sk-container-id-1 div.sk-container {/* jupyter's `normalize.less` sets `[hidden] { display: none; }` but bootstrap.min.css set `[hidden] { display: none !important; }` so we also need the `!important` here to be able to override the default hidden behavior on the sphinx rendered scikit-learn.org. See: https://github.com/scikit-learn/scikit-learn/issues/21755 */display: inline-block !important;position: relative;}#sk-container-id-1 div.sk-text-repr-fallback {display: none;}</style><div id=\"sk-container-id-1\" class=\"sk-top-container\"><div class=\"sk-text-repr-fallback\"><pre>LogisticRegression()</pre><b>In a Jupyter environment, please rerun this cell to show the HTML representation or trust the notebook. <br />On GitHub, the HTML representation is unable to render, please try loading this page with nbviewer.org.</b></div><div class=\"sk-container\" hidden><div class=\"sk-item\"><div class=\"sk-estimator sk-toggleable\"><input class=\"sk-toggleable__control sk-hidden--visually\" id=\"sk-estimator-id-1\" type=\"checkbox\" checked><label for=\"sk-estimator-id-1\" class=\"sk-toggleable__label sk-toggleable__label-arrow\">LogisticRegression</label><div class=\"sk-toggleable__content\"><pre>LogisticRegression()</pre></div></div></div></div></div>"
      ],
      "text/plain": [
       "LogisticRegression()"
      ]
     },
     "execution_count": 25,
     "metadata": {},
     "output_type": "execute_result"
    }
   ],
   "source": [
    "model = LogisticRegression()\n",
    "model.fit(X_train,Y_train)"
   ]
  },
  {
   "cell_type": "markdown",
   "id": "d310653a-0fac-46c1-9a40-dbf1da67e317",
   "metadata": {},
   "source": [
    "### 9. Evaluating Model Performance"
   ]
  },
  {
   "cell_type": "markdown",
   "id": "fb1eced6-0928-4e82-bae4-8745a4bcb4f5",
   "metadata": {},
   "source": [
    "#### Predicts fraud/non-fraud labels for training data.\n",
    "\n",
    "#### Calculates training accuracy."
   ]
  },
  {
   "cell_type": "code",
   "execution_count": 27,
   "id": "47ab441a-f6ef-48a7-8ab4-9408942a78a9",
   "metadata": {},
   "outputs": [
    {
     "name": "stdout",
     "output_type": "stream",
     "text": [
      "Accuracy on Training data :  0.9377382465057179\n"
     ]
    }
   ],
   "source": [
    "X_train_prediction = model.predict(X_train)\n",
    "training_data_accuracy = accuracy_score(X_train_prediction,Y_train)\n",
    "print('Accuracy on Training data : ',training_data_accuracy)"
   ]
  },
  {
   "cell_type": "markdown",
   "id": "a0c42f8d-c496-4d11-911c-d709707b73ea",
   "metadata": {},
   "source": [
    "#### Predicts fraud/non-fraud labels for test data.\n",
    "\n",
    "#### Computes test accuracy."
   ]
  },
  {
   "cell_type": "code",
   "execution_count": 28,
   "id": "409eff34-5f53-44c6-8ef3-d41768154693",
   "metadata": {},
   "outputs": [
    {
     "name": "stdout",
     "output_type": "stream",
     "text": [
      "Accuracy score on Test Data :  0.9137055837563451\n"
     ]
    }
   ],
   "source": [
    "X_test_prediction = model.predict(X_test)\n",
    "test_data_accuracy = accuracy_score(X_test_prediction,Y_test)\n",
    "print('Accuracy score on Test Data : ',test_data_accuracy)"
   ]
  },
  {
   "cell_type": "markdown",
   "id": "e16a809f-207f-4794-9c85-5606059b9fe3",
   "metadata": {},
   "source": [
    "### Visual Representation of the Project"
   ]
  },
  {
   "cell_type": "markdown",
   "id": "f543b74a-b869-484e-8fd5-56c700cc7e5d",
   "metadata": {},
   "source": [
    "#### 1. Fraud vs Legit Transactions Count"
   ]
  },
  {
   "cell_type": "markdown",
   "id": "25ab13c3-f203-45c5-8c25-ea87ccbfd955",
   "metadata": {},
   "source": [
    "##### A bar plot showing how many fraud and non-fraud transactions exist."
   ]
  },
  {
   "cell_type": "code",
   "execution_count": 30,
   "id": "ae960770-36eb-4e4e-96f9-5985a26c6ecc",
   "metadata": {},
   "outputs": [
    {
     "data": {
      "image/png": "[encoded data removed]",
      "text/plain": [
       "<Figure size 600x400 with 1 Axes>"
      ]
     },
     "metadata": {},
     "output_type": "display_data"
    }
   ],
   "source": [
    "import matplotlib.pyplot as plt\n",
    "import seaborn as sns\n",
    "\n",
    "plt.figure(figsize=(6,4))\n",
    "sns.countplot(x=fraud_detection['Class'], palette='coolwarm')\n",
    "plt.title('Count of Legitimate vs Fraud Transactions')\n",
    "plt.xlabel('Class (0 = Legit, 1 = Fraud)')\n",
    "plt.ylabel('Count')\n",
    "plt.show()"
   ]
  },
  {
   "cell_type": "markdown",
   "id": "54be1cc5-1b22-452d-9999-f5898a1814e1",
   "metadata": {},
   "source": [
    "#### 2. Fraudulent vs Legitimate Transaction Amounts"
   ]
  },
  {
   "cell_type": "markdown",
   "id": "6d01d68d",
   "metadata": {},
   "source": [
    "### Boxplot showing how transaction amounts differ between fraud and non-fraud cases"
   ]
  },
  {
   "cell_type": "code",
   "execution_count": 33,
   "id": "bf74f02c",
   "metadata": {},
   "outputs": [
    {
     "data": {
      "image/png": "[encoded data removed]",
      "text/plain": [
       "<Figure size 1000x500 with 1 Axes>"
      ]
     },
     "metadata": {},
     "output_type": "display_data"
    }
   ],
   "source": [
    "plt.figure(figsize=(10,5))\n",
    "sns.boxplot(x=fraud_detection['Class'], y=fraud_detection['Amount'], palette='coolwarm')\n",
    "plt.title('Transaction Amounts for Fraud and Legitimate Transactions')\n",
    "plt.xlabel('Class (0 = Legit, 1 = Fraud)')\n",
    "plt.ylabel('Transaction Amount')\n",
    "plt.show()"
   ]
  },
  {
   "cell_type": "markdown",
   "id": "00cc6db2",
   "metadata": {},
   "source": [
    "#### 3. Model Performance (Training vs Test Accuracy)"
   ]
  },
  {
   "cell_type": "markdown",
   "id": "c1ee59d0",
   "metadata": {},
   "source": [
    "#### Bar chart comparing training and test accuracy."
   ]
  },
  {
   "cell_type": "code",
   "execution_count": 34,
   "id": "8919a45d",
   "metadata": {},
   "outputs": [
    {
     "data": {
      "image/png": "[encoded data removed]",
      "text/plain": [
       "<Figure size 600x400 with 1 Axes>"
      ]
     },
     "metadata": {},
     "output_type": "display_data"
    }
   ],
   "source": [
    "labels = ['Training Accuracy','Test Accuracy']\n",
    "values = [training_data_accuracy,test_data_accuracy]\n",
    "\n",
    "plt.figure(figsize=(6,4))\n",
    "sns.barplot(x=labels,y=values,palette='viridis')\n",
    "plt.ylim(0,1)\n",
    "plt.title('Training vs Test Accuracy')\n",
    "plt.ylabel('Accuracy Score')\n",
    "plt.show()"
   ]
  },
  {
   "cell_type": "code",
   "execution_count": null,
   "id": "61b507ba",
   "metadata": {},
   "outputs": [],
   "source": []
  }
 ],
 "metadata": {
  "kernelspec": {
   "display_name": "Python 3 (ipykernel)",
   "language": "python",
   "name": "python3"
  },
  "language_info": {
   "codemirror_mode": {
    "name": "ipython",
    "version": 3
   },
   "file_extension": ".py",
   "mimetype": "text/x-python",
   "name": "python",
   "nbconvert_exporter": "python",
   "pygments_lexer": "ipython3",
   "version": "3.11.5"
  }
 },
 "nbformat": 4,
 "nbformat_minor": 5
}
